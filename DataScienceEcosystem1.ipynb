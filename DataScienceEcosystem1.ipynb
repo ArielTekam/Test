{
 "cells": [
  {
   "cell_type": "markdown",
   "id": "370dd0dd-88c5-43d5-a4c1-fdfd60f13116",
   "metadata": {},
   "source": [
    "# Data Science Tools and Ecosystem "
   ]
  },
  {
   "cell_type": "markdown",
   "id": "80bf7606-dfbe-47ce-a21f-8dfec1c3a10b",
   "metadata": {},
   "source": [
    "# List popular languages for Data Science\n",
    "__Objectives :__\n",
    "\n",
    "- List popular data science languages\n",
    "- List libraries commonly used by data scientists\n",
    "- List examples of how to evaluate arithmetic expressions in Python"
   ]
  },
  {
   "cell_type": "markdown",
   "id": "0f90a4aa-6953-49af-b386-2ef93ad2924a",
   "metadata": {},
   "source": [
    "# In this notebook, Data Science Tools and Ecosystem are summarized."
   ]
  },
  {
   "cell_type": "markdown",
   "id": "2df72d1f-52b8-4409-88bf-10a82c2d301b",
   "metadata": {},
   "source": [
    "# Some of the popular languages that Data Scientists use are:\n",
    "1. Python\n",
    "2. R\n",
    "3. C++"
   ]
  },
  {
   "cell_type": "markdown",
   "id": "50ecc265-6400-430d-90b0-4c6fe4e15e46",
   "metadata": {},
   "source": [
    "# Some of the commonly used libraries used by Data Scientists include:\n",
    "1. Panda\n",
    "2. numpy\n",
    "3. ggpl"
   ]
  },
  {
   "cell_type": "markdown",
   "id": "f9800455-4bfe-4f28-a111-3aac84726c45",
   "metadata": {},
   "source": [
    "\n",
    "|Data Science Tools|\n",
    "--------------------\n",
    "|Rstudio|\n",
    "|Jupiter|\n",
    "|PyCharm|"
   ]
  },
  {
   "cell_type": "markdown",
   "id": "902d51bd-50c0-44a4-932e-5a47e4e1539f",
   "metadata": {},
   "source": [
    "### Below are a few examples of evaluating arithmetic expressions in Python"
   ]
  },
  {
   "cell_type": "code",
   "execution_count": 8,
   "id": "764e9c65-1026-437f-ab0b-4efaa74cf31f",
   "metadata": {},
   "outputs": [
    {
     "data": {
      "text/plain": [
       "17"
      ]
     },
     "execution_count": 8,
     "metadata": {},
     "output_type": "execute_result"
    }
   ],
   "source": [
    "##This a simple arithmetic expression to mutiply then add integers\n",
    "(3*4)+5"
   ]
  },
  {
   "cell_type": "code",
   "execution_count": null,
   "id": "f398d668-bee3-45ed-8250-7004dd159b3a",
   "metadata": {},
   "outputs": [],
   "source": [
    "##This will convert 200 minutes to hours by diving by 60\n",
    "time= 200/60"
   ]
  },
  {
   "cell_type": "markdown",
   "id": "8aa4c5bc-98c5-4ffe-b4d4-b664c24dc7f8",
   "metadata": {},
   "source": [
    "## Author \n",
    "Ariel Tekam"
   ]
  },
  {
   "cell_type": "code",
   "execution_count": null,
   "id": "d3812dcd-2c84-4730-80dd-9881131ae604",
   "metadata": {},
   "outputs": [],
   "source": []
  }
 ],
 "metadata": {
  "kernelspec": {
   "display_name": "Python 3 (ipykernel)",
   "language": "python",
   "name": "python3"
  },
  "language_info": {
   "codemirror_mode": {
    "name": "ipython",
    "version": 3
   },
   "file_extension": ".py",
   "mimetype": "text/x-python",
   "name": "python",
   "nbconvert_exporter": "python",
   "pygments_lexer": "ipython3",
   "version": "3.12.4"
  }
 },
 "nbformat": 4,
 "nbformat_minor": 5
}
