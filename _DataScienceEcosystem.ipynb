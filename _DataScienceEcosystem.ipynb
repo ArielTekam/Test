{
 "cells": [
  {
   "cell_type": "markdown",
   "id": "3a656d47-53e4-4d72-af64-0b7f7b64c97e",
   "metadata": {},
   "source": [
    "# Outils et écosystème de la science des données"
   ]
  },
  {
   "cell_type": "markdown",
   "id": "234da20c-afc4-42a0-8eb2-ae1811b21016",
   "metadata": {},
   "source": [
    "## Dans ce notebook, les outils et l'écosystème de la science des données sont résumés."
   ]
  },
  {
   "cell_type": "markdown",
   "id": "995c08bf-e7bd-4e53-8436-c4f449538fd7",
   "metadata": {},
   "source": [
    "__Objectifs :__\n",
    "\n",
    "- Lister les langages populaires pour la science des données\n",
    "- Lister les bibliothèques couramment utilisées par les scientifiques des données\n",
    "- Lister des exemples d'évaluation d'expressions arithmétiques en Python"
   ]
  },
  {
   "cell_type": "markdown",
   "id": "1a8d4c43-022a-40a1-b45d-6d6cd128528b",
   "metadata": {},
   "source": [
    "### Certains des langages populaires que les scientifiques des données utilisent sont :"
   ]
  },
  {
   "cell_type": "markdown",
   "id": "d589bfa2-a9ff-4d0e-9190-a372fd694a0a",
   "metadata": {},
   "source": [
    "1. Python\n",
    "2. R\n",
    "3. C++"
   ]
  },
  {
   "cell_type": "markdown",
   "id": "d4015c89-ad40-4bc1-8280-3aaaa5afa378",
   "metadata": {},
   "source": [
    "### Certaines des bibliothèques couramment utilisées par les scientifiques des données incluent :\r\n"
   ]
  },
  {
   "cell_type": "markdown",
   "id": "ffc6642c-ded7-4849-8208-ff9407b8f90c",
   "metadata": {},
   "source": [
    "1. Panda\n",
    "2. numpy\n",
    "3. ggpl"
   ]
  },
  {
   "cell_type": "markdown",
   "id": "ec37effd-e9cf-4194-b485-878326ee0063",
   "metadata": {},
   "source": [
    "|Outils de la science des données|\n",
    "----------------------------------\n",
    "|Rstudio|\n",
    "|Jupiter|\n",
    "|PyCharm|\n"
   ]
  },
  {
   "cell_type": "markdown",
   "id": "80172247-9649-449a-ab30-9e22785baf39",
   "metadata": {},
   "source": [
    "### Voici quelques exemples d'évaluation d'expressions arithmétiques en Python"
   ]
  },
  {
   "cell_type": "code",
   "execution_count": 17,
   "id": "8c9ee91c-0504-4f93-8ba7-5f782cd8561d",
   "metadata": {},
   "outputs": [
    {
     "data": {
      "text/plain": [
       "17"
      ]
     },
     "execution_count": 17,
     "metadata": {},
     "output_type": "execute_result"
    }
   ],
   "source": [
    "## Ceci est une simple expression arithmétique pour multiplier puis additionner des entiers\n",
    "(3*4)+5"
   ]
  },
  {
   "cell_type": "code",
   "execution_count": 19,
   "id": "f0a02f55-578a-47fa-a68d-5d04f7bb7ea7",
   "metadata": {},
   "outputs": [],
   "source": [
    "## Cela convertira 200 minutes en heures en divisant par 60\n",
    "heure = 200/60"
   ]
  },
  {
   "cell_type": "markdown",
   "id": "151b6e46-c301-4e3c-809f-bb6e3fc1d2c2",
   "metadata": {},
   "source": [
    "## Auteur \n",
    "Ariel Tekam"
   ]
  },
  {
   "cell_type": "code",
   "execution_count": null,
   "id": "35e53168-f818-44f0-85cd-6b188a058640",
   "metadata": {},
   "outputs": [],
   "source": []
  }
 ],
 "metadata": {
  "kernelspec": {
   "display_name": "Python 3 (ipykernel)",
   "language": "python",
   "name": "python3"
  },
  "language_info": {
   "codemirror_mode": {
    "name": "ipython",
    "version": 3
   },
   "file_extension": ".py",
   "mimetype": "text/x-python",
   "name": "python",
   "nbconvert_exporter": "python",
   "pygments_lexer": "ipython3",
   "version": "3.12.4"
  }
 },
 "nbformat": 4,
 "nbformat_minor": 5
}
